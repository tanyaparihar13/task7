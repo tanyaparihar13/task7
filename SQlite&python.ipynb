{
 "cells": [
  {
   "cell_type": "markdown",
   "id": "e0919ae1-c6d1-4d66-b4c4-0d161e3a5dff",
   "metadata": {},
   "source": [
    "step:1 Install & Import Required Libaries\n"
   ]
  },
  {
   "cell_type": "code",
   "execution_count": 4,
   "id": "a8341f5e-28ff-4f45-aaa9-fbe193af27b2",
   "metadata": {},
   "outputs": [],
   "source": [
    "import sqlite3  \n",
    "import pandas as pd\n",
    "import matplotlib.pyplot as plt \n",
    "import seaborn as sns\n",
    "import warnings\n",
    "\n",
    "warnings.filterwarnings(\"ignore\")\n"
   ]
  },
  {
   "cell_type": "markdown",
   "id": "35e72b55-4e7e-418d-9567-6265d00eae1d",
   "metadata": {},
   "source": [
    "Step:2  create a new SQlite Database and Table"
   ]
  },
  {
   "cell_type": "code",
   "execution_count": 13,
   "id": "cda5c1dd-4575-4a41-bd8c-0d24e2be1b59",
   "metadata": {},
   "outputs": [],
   "source": [
    "conn = sqlite3.connect(\"customers_data.db\")\n",
    "cursor = conn.cursor()\n",
    "cursor.execute(\"\"\"\n",
    "CREATE TABLE IF NOT EXISTS customers(\n",
    "id INTEGER PRIMARY KEY AUTOINCREMENT,\n",
    "name TEXT,\n",
    "age INTEGER,\n",
    "city TEXT,\n",
    "total_spent REAL\n",
    ")\n",
    "\"\"\")\n",
    "\n",
    "\n",
    "conn.commit()\n"
   ]
  },
  {
   "cell_type": "code",
   "execution_count": 20,
   "id": "ac5fbbc0-d62d-46f2-956d-9dd8860e41b8",
   "metadata": {},
   "outputs": [],
   "source": [
    "customers = [\n",
    "(\"Alice Johnson\", 28, \"New York\", 500.75),\n",
    "(\"Bob Smith\" , 35, \"chicago\" , 1200.68),\n",
    "(\"Charlie \", 33, \"Houston\", 989.90),\n",
    "(\"David\", 22, \"San Francisco\", 765.70),\n",
    "(\"Emma\", 32, \"Japan\", 569.88)\n",
    "]\n",
    "\n",
    "cursor.executemany(\"INSERT INTO customers (name, age, city, total_spent) VALUES(?, ?, ?,?)\",customers)\n",
    "\n",
    "conn.commit()"
   ]
  },
  {
   "cell_type": "markdown",
   "id": "6a115149-0ce4-4e3a-8732-1d14472907fa",
   "metadata": {},
   "source": [
    "Run Sql queries:"
   ]
  },
  {
   "cell_type": "code",
   "execution_count": 21,
   "id": "9a5b130c-3d6a-4219-8e43-eac7037e7e58",
   "metadata": {},
   "outputs": [
    {
     "ename": "OperationalError",
     "evalue": "duplicate column name: total_spent",
     "output_type": "error",
     "traceback": [
      "\u001b[1;31m---------------------------------------------------------------------------\u001b[0m",
      "\u001b[1;31mOperationalError\u001b[0m                          Traceback (most recent call last)",
      "Cell \u001b[1;32mIn[21], line 1\u001b[0m\n\u001b[1;32m----> 1\u001b[0m \u001b[43mcursor\u001b[49m\u001b[38;5;241;43m.\u001b[39;49m\u001b[43mexecute\u001b[49m\u001b[43m(\u001b[49m\u001b[38;5;124;43m\"\u001b[39;49m\u001b[38;5;124;43mALTER TABLE customers ADD COLUMN total_spent REAL\u001b[39;49m\u001b[38;5;124;43m\"\u001b[39;49m\u001b[43m)\u001b[49m\n",
      "\u001b[1;31mOperationalError\u001b[0m: duplicate column name: total_spent"
     ]
    }
   ],
   "source": [
    "cursor.execute(\"ALTER TABLE customers ADD COLUMN total_spent REAL\")\n"
   ]
  },
  {
   "cell_type": "code",
   "execution_count": 22,
   "id": "e4fd1452-3661-4a47-afad-0636f6c51ced",
   "metadata": {
    "scrolled": true
   },
   "outputs": [
    {
     "data": {
      "text/html": [
       "<div>\n",
       "<style scoped>\n",
       "    .dataframe tbody tr th:only-of-type {\n",
       "        vertical-align: middle;\n",
       "    }\n",
       "\n",
       "    .dataframe tbody tr th {\n",
       "        vertical-align: top;\n",
       "    }\n",
       "\n",
       "    .dataframe thead th {\n",
       "        text-align: right;\n",
       "    }\n",
       "</style>\n",
       "<table border=\"1\" class=\"dataframe\">\n",
       "  <thead>\n",
       "    <tr style=\"text-align: right;\">\n",
       "      <th></th>\n",
       "      <th>id</th>\n",
       "      <th>name</th>\n",
       "      <th>age</th>\n",
       "      <th>city</th>\n",
       "      <th>total_spent_REAL</th>\n",
       "      <th>total_spent</th>\n",
       "    </tr>\n",
       "  </thead>\n",
       "  <tbody>\n",
       "    <tr>\n",
       "      <th>0</th>\n",
       "      <td>1</td>\n",
       "      <td>Alice Johnson</td>\n",
       "      <td>28</td>\n",
       "      <td>New York</td>\n",
       "      <td>None</td>\n",
       "      <td>500.75</td>\n",
       "    </tr>\n",
       "    <tr>\n",
       "      <th>1</th>\n",
       "      <td>2</td>\n",
       "      <td>Bob Smith</td>\n",
       "      <td>35</td>\n",
       "      <td>chicago</td>\n",
       "      <td>None</td>\n",
       "      <td>1200.68</td>\n",
       "    </tr>\n",
       "    <tr>\n",
       "      <th>2</th>\n",
       "      <td>3</td>\n",
       "      <td>Charlie</td>\n",
       "      <td>33</td>\n",
       "      <td>Houston</td>\n",
       "      <td>None</td>\n",
       "      <td>989.90</td>\n",
       "    </tr>\n",
       "    <tr>\n",
       "      <th>3</th>\n",
       "      <td>4</td>\n",
       "      <td>David</td>\n",
       "      <td>22</td>\n",
       "      <td>San Francisco</td>\n",
       "      <td>None</td>\n",
       "      <td>765.70</td>\n",
       "    </tr>\n",
       "    <tr>\n",
       "      <th>4</th>\n",
       "      <td>5</td>\n",
       "      <td>Emma</td>\n",
       "      <td>32</td>\n",
       "      <td>Japan</td>\n",
       "      <td>None</td>\n",
       "      <td>569.88</td>\n",
       "    </tr>\n",
       "  </tbody>\n",
       "</table>\n",
       "</div>"
      ],
      "text/plain": [
       "   id           name  age           city total_spent_REAL  total_spent\n",
       "0   1  Alice Johnson   28       New York             None       500.75\n",
       "1   2      Bob Smith   35        chicago             None      1200.68\n",
       "2   3       Charlie    33        Houston             None       989.90\n",
       "3   4          David   22  San Francisco             None       765.70\n",
       "4   5           Emma   32          Japan             None       569.88"
      ]
     },
     "execution_count": 22,
     "metadata": {},
     "output_type": "execute_result"
    }
   ],
   "source": [
    "query = \"SELECT * FROM customers\"\n",
    "df = pd.read_sql(query , conn)\n",
    "\n",
    "df.head()"
   ]
  },
  {
   "cell_type": "code",
   "execution_count": 26,
   "id": "d86f64e7-19b4-465b-aea2-0b32b23f863d",
   "metadata": {},
   "outputs": [
    {
     "data": {
      "text/html": [
       "<div>\n",
       "<style scoped>\n",
       "    .dataframe tbody tr th:only-of-type {\n",
       "        vertical-align: middle;\n",
       "    }\n",
       "\n",
       "    .dataframe tbody tr th {\n",
       "        vertical-align: top;\n",
       "    }\n",
       "\n",
       "    .dataframe thead th {\n",
       "        text-align: right;\n",
       "    }\n",
       "</style>\n",
       "<table border=\"1\" class=\"dataframe\">\n",
       "  <thead>\n",
       "    <tr style=\"text-align: right;\">\n",
       "      <th></th>\n",
       "      <th>id</th>\n",
       "      <th>name</th>\n",
       "      <th>age</th>\n",
       "      <th>city</th>\n",
       "      <th>total_spent_REAL</th>\n",
       "      <th>total_spent</th>\n",
       "    </tr>\n",
       "  </thead>\n",
       "  <tbody>\n",
       "    <tr>\n",
       "      <th>0</th>\n",
       "      <td>1</td>\n",
       "      <td>Alice Johnson</td>\n",
       "      <td>28</td>\n",
       "      <td>New York</td>\n",
       "      <td>None</td>\n",
       "      <td>500.75</td>\n",
       "    </tr>\n",
       "    <tr>\n",
       "      <th>1</th>\n",
       "      <td>5</td>\n",
       "      <td>Emma</td>\n",
       "      <td>32</td>\n",
       "      <td>Japan</td>\n",
       "      <td>None</td>\n",
       "      <td>569.88</td>\n",
       "    </tr>\n",
       "    <tr>\n",
       "      <th>2</th>\n",
       "      <td>6</td>\n",
       "      <td>Alice Johnson</td>\n",
       "      <td>28</td>\n",
       "      <td>New York</td>\n",
       "      <td>None</td>\n",
       "      <td>500.75</td>\n",
       "    </tr>\n",
       "    <tr>\n",
       "      <th>3</th>\n",
       "      <td>10</td>\n",
       "      <td>Emma</td>\n",
       "      <td>32</td>\n",
       "      <td>Japan</td>\n",
       "      <td>None</td>\n",
       "      <td>569.88</td>\n",
       "    </tr>\n",
       "  </tbody>\n",
       "</table>\n",
       "</div>"
      ],
      "text/plain": [
       "   id           name  age      city total_spent_REAL  total_spent\n",
       "0   1  Alice Johnson   28  New York             None       500.75\n",
       "1   5           Emma   32     Japan             None       569.88\n",
       "2   6  Alice Johnson   28  New York             None       500.75\n",
       "3  10           Emma   32     Japan             None       569.88"
      ]
     },
     "execution_count": 26,
     "metadata": {},
     "output_type": "execute_result"
    }
   ],
   "source": [
    "query = \"SELECT * FROM customers WHERE total_spent < 700\"\n",
    "pd.read_sql(query, conn)"
   ]
  },
  {
   "cell_type": "code",
   "execution_count": 30,
   "id": "5835d514-40ba-4bd1-a76e-a966a7dc1ab3",
   "metadata": {},
   "outputs": [
    {
     "data": {
      "text/html": [
       "<div>\n",
       "<style scoped>\n",
       "    .dataframe tbody tr th:only-of-type {\n",
       "        vertical-align: middle;\n",
       "    }\n",
       "\n",
       "    .dataframe tbody tr th {\n",
       "        vertical-align: top;\n",
       "    }\n",
       "\n",
       "    .dataframe thead th {\n",
       "        text-align: right;\n",
       "    }\n",
       "</style>\n",
       "<table border=\"1\" class=\"dataframe\">\n",
       "  <thead>\n",
       "    <tr style=\"text-align: right;\">\n",
       "      <th></th>\n",
       "      <th>average_age</th>\n",
       "    </tr>\n",
       "  </thead>\n",
       "  <tbody>\n",
       "    <tr>\n",
       "      <th>0</th>\n",
       "      <td>30.0</td>\n",
       "    </tr>\n",
       "  </tbody>\n",
       "</table>\n",
       "</div>"
      ],
      "text/plain": [
       "   average_age\n",
       "0         30.0"
      ]
     },
     "execution_count": 30,
     "metadata": {},
     "output_type": "execute_result"
    }
   ],
   "source": [
    "query = \"SELECT AVG(age) AS average_age FROM customers\" \n",
    "pd.read_sql(query, conn)"
   ]
  },
  {
   "cell_type": "code",
   "execution_count": 31,
   "id": "c387a859-1057-4b5f-928a-ed852bbab5bb",
   "metadata": {},
   "outputs": [
    {
     "data": {
      "text/html": [
       "<div>\n",
       "<style scoped>\n",
       "    .dataframe tbody tr th:only-of-type {\n",
       "        vertical-align: middle;\n",
       "    }\n",
       "\n",
       "    .dataframe tbody tr th {\n",
       "        vertical-align: top;\n",
       "    }\n",
       "\n",
       "    .dataframe thead th {\n",
       "        text-align: right;\n",
       "    }\n",
       "</style>\n",
       "<table border=\"1\" class=\"dataframe\">\n",
       "  <thead>\n",
       "    <tr style=\"text-align: right;\">\n",
       "      <th></th>\n",
       "      <th>city</th>\n",
       "      <th>num_customers</th>\n",
       "    </tr>\n",
       "  </thead>\n",
       "  <tbody>\n",
       "    <tr>\n",
       "      <th>0</th>\n",
       "      <td>Houston</td>\n",
       "      <td>2</td>\n",
       "    </tr>\n",
       "    <tr>\n",
       "      <th>1</th>\n",
       "      <td>Japan</td>\n",
       "      <td>2</td>\n",
       "    </tr>\n",
       "    <tr>\n",
       "      <th>2</th>\n",
       "      <td>New York</td>\n",
       "      <td>2</td>\n",
       "    </tr>\n",
       "    <tr>\n",
       "      <th>3</th>\n",
       "      <td>San Francisco</td>\n",
       "      <td>2</td>\n",
       "    </tr>\n",
       "    <tr>\n",
       "      <th>4</th>\n",
       "      <td>chicago</td>\n",
       "      <td>2</td>\n",
       "    </tr>\n",
       "  </tbody>\n",
       "</table>\n",
       "</div>"
      ],
      "text/plain": [
       "            city  num_customers\n",
       "0        Houston              2\n",
       "1          Japan              2\n",
       "2       New York              2\n",
       "3  San Francisco              2\n",
       "4        chicago              2"
      ]
     },
     "execution_count": 31,
     "metadata": {},
     "output_type": "execute_result"
    }
   ],
   "source": [
    "query = \"SELECT city, COUNT(*) AS num_customers FROM customers GROUP BY city\" \n",
    "pd.read_sql(query, conn)"
   ]
  },
  {
   "cell_type": "code",
   "execution_count": null,
   "id": "dd6247d8-fd09-4c4f-b6a2-bec14290e1f7",
   "metadata": {},
   "outputs": [],
   "source": [
    "query = \"SELECT city, SUM(total_spent) AS total_sales FROM customers GROUP BY city\"\n",
    "df_sales = pd.read_sql(query, conn)\n",
    "\n",
    "plt.figure(figsize=(8, 5))\n",
    "sns.barplot(x='city', y='total_sales', data=df_sales, palette='coolwarm')\n",
    "plt.title(\"Total Sales by City\")\n",
    "plt.xticks(rotation=45)  # ✅ Corrected spelling\n",
    "plt.xlabel(\"City\")\n",
    "plt.ylabel(\"Total Sales\")\n",
    "plt.tight_layout()\n",
    "plt.show()\n"
   ]
  }
 ],
 "metadata": {
  "kernelspec": {
   "display_name": "Python 3 (ipykernel)",
   "language": "python",
   "name": "python3"
  },
  "language_info": {
   "codemirror_mode": {
    "name": "ipython",
    "version": 3
   },
   "file_extension": ".py",
   "mimetype": "text/x-python",
   "name": "python",
   "nbconvert_exporter": "python",
   "pygments_lexer": "ipython3",
   "version": "3.10.4"
  }
 },
 "nbformat": 4,
 "nbformat_minor": 5
}
